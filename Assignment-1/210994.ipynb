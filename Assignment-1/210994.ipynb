{
 "cells": [
  {
   "cell_type": "code",
   "execution_count": 1,
   "metadata": {},
   "outputs": [],
   "source": [
    "import numpy as np\n",
    "import pandas as pd"
   ]
  },
  {
   "cell_type": "code",
   "execution_count": 2,
   "metadata": {},
   "outputs": [
    {
     "name": "stdout",
     "output_type": "stream",
     "text": [
      "<class 'pandas.core.frame.DataFrame'>\n",
      "RangeIndex: 891 entries, 0 to 890\n",
      "Data columns (total 12 columns):\n",
      " #   Column       Non-Null Count  Dtype  \n",
      "---  ------       --------------  -----  \n",
      " 0   PassengerId  891 non-null    int64  \n",
      " 1   Survived     891 non-null    int64  \n",
      " 2   Pclass       891 non-null    int64  \n",
      " 3   Name         891 non-null    object \n",
      " 4   Sex          891 non-null    object \n",
      " 5   Age          714 non-null    float64\n",
      " 6   SibSp        891 non-null    int64  \n",
      " 7   Parch        891 non-null    int64  \n",
      " 8   Ticket       891 non-null    object \n",
      " 9   Fare         891 non-null    float64\n",
      " 10  Cabin        204 non-null    object \n",
      " 11  Embarked     889 non-null    object \n",
      "dtypes: float64(2), int64(5), object(5)\n",
      "memory usage: 83.7+ KB\n"
     ]
    }
   ],
   "source": [
    "df = pd.read_csv('train.csv')\n",
    "df.info()"
   ]
  },
  {
   "cell_type": "code",
   "execution_count": 3,
   "metadata": {},
   "outputs": [],
   "source": [
    "from sklearn import preprocessing\n",
    "label_encoder_1=preprocessing.LabelEncoder()\n",
    "label_encoder_2=preprocessing.LabelEncoder()\n",
    "label_encoder_3=preprocessing.LabelEncoder()"
   ]
  },
  {
   "cell_type": "code",
   "execution_count": 4,
   "metadata": {},
   "outputs": [],
   "source": [
    "def pipeline(dataset):\n",
    "  dataset=dataset.drop(columns=['PassengerId','Name','Ticket','Cabin'])\n",
    "  dataset['Sex']= label_encoder_1.fit_transform(dataset['Sex'])\n",
    "  dataset['Embarked']= label_encoder_2.fit_transform(dataset['Embarked'])\n",
    "  dataset['Pclass']= label_encoder_3.fit_transform(dataset['Pclass'])\n",
    "  return dataset"
   ]
  },
  {
   "cell_type": "code",
   "execution_count": 5,
   "metadata": {},
   "outputs": [],
   "source": [
    "def test_pipeline(dataset):\n",
    "  dataset=dataset.drop(columns=['PassengerId','Name','Ticket','Cabin'])\n",
    "  dataset['Sex']= label_encoder_1.transform(dataset['Sex'])\n",
    "  dataset['Embarked']= label_encoder_2.transform(dataset['Embarked'])\n",
    "  dataset['Pclass']= label_encoder_3.transform(dataset['Pclass'])\n",
    "  return dataset"
   ]
  },
  {
   "cell_type": "code",
   "execution_count": 6,
   "metadata": {},
   "outputs": [],
   "source": [
    "#Replacing the missing values by mean\n",
    "dataset=pipeline(df)\n",
    "dataset=dataset.fillna(dataset.mean(numeric_only=True))"
   ]
  },
  {
   "cell_type": "code",
   "execution_count": 7,
   "metadata": {},
   "outputs": [
    {
     "name": "stdout",
     "output_type": "stream",
     "text": [
      "<class 'pandas.core.frame.DataFrame'>\n",
      "RangeIndex: 891 entries, 0 to 890\n",
      "Data columns (total 8 columns):\n",
      " #   Column    Non-Null Count  Dtype  \n",
      "---  ------    --------------  -----  \n",
      " 0   Survived  891 non-null    float64\n",
      " 1   Pclass    891 non-null    float64\n",
      " 2   Sex       891 non-null    float64\n",
      " 3   Age       891 non-null    float64\n",
      " 4   SibSp     891 non-null    float64\n",
      " 5   Parch     891 non-null    float64\n",
      " 6   Fare      891 non-null    float64\n",
      " 7   Embarked  891 non-null    float64\n",
      "dtypes: float64(8)\n",
      "memory usage: 55.8 KB\n"
     ]
    }
   ],
   "source": [
    "#Convert all values to float\n",
    "dataset = dataset.astype(float)\n",
    "dataset.info()\n",
    "# dataset['SibSp'].value_counts()"
   ]
  },
  {
   "cell_type": "code",
   "execution_count": 8,
   "metadata": {},
   "outputs": [],
   "source": [
    "X=dataset.drop(columns=['Survived']) # Feature matrix\n",
    "y=dataset['Survived'] # Output label"
   ]
  },
  {
   "cell_type": "code",
   "execution_count": 9,
   "metadata": {},
   "outputs": [],
   "source": [
    "# X['Embarked'].value_counts()"
   ]
  },
  {
   "cell_type": "code",
   "execution_count": 10,
   "metadata": {},
   "outputs": [],
   "source": [
    "X=X.to_numpy() #Feature Matrix(Training Input)\n",
    "y=y.to_numpy() #Training Labels"
   ]
  },
  {
   "cell_type": "code",
   "execution_count": 11,
   "metadata": {},
   "outputs": [],
   "source": [
    "# Bias term\n",
    "X = np.hstack((np.ones((X.shape[0],1)), X)) "
   ]
  },
  {
   "cell_type": "code",
   "execution_count": 12,
   "metadata": {},
   "outputs": [
    {
     "data": {
      "text/plain": [
       "(891, 8)"
      ]
     },
     "execution_count": 12,
     "metadata": {},
     "output_type": "execute_result"
    }
   ],
   "source": [
    "X.shape"
   ]
  },
  {
   "cell_type": "code",
   "execution_count": 13,
   "metadata": {},
   "outputs": [
    {
     "data": {
      "text/plain": [
       "(891, 1)"
      ]
     },
     "execution_count": 13,
     "metadata": {},
     "output_type": "execute_result"
    }
   ],
   "source": [
    "y=np.reshape(y,(-1,1))\n",
    "y.shape"
   ]
  },
  {
   "cell_type": "code",
   "execution_count": 14,
   "metadata": {},
   "outputs": [],
   "source": [
    "# Split the data into training and validation sets\n",
    "from sklearn.model_selection import train_test_split\n",
    "X_train_unscaled, X_val_unscaled, y_train, y_val = train_test_split(X, y, test_size=0.15, random_state=180)"
   ]
  },
  {
   "cell_type": "code",
   "execution_count": 15,
   "metadata": {},
   "outputs": [],
   "source": [
    "from sklearn.preprocessing import StandardScaler\n",
    "\n",
    "# Standardize the features\n",
    "scaler = StandardScaler()\n",
    "X_train = X_train_unscaled.copy()\n",
    "X_val = X_val_unscaled.copy()  \n",
    "\n",
    "# Create a list of column indices to exclude from scaling\n",
    "columns_to_exclude = [0, 1, 2, 7]\n",
    "\n",
    "# Create a list of columns to scale (excluding columns to exclude)\n",
    "columns_to_scale = [i for i in range(X_train_unscaled.shape[1]) if i not in columns_to_exclude]\n",
    "\n",
    "# Fit the scaler on the training data and transform both training and validation data for selected columns\n",
    "X_train[:, columns_to_scale] = scaler.fit_transform(X_train_unscaled[:, columns_to_scale])\n",
    "X_val[:, columns_to_scale] = scaler.transform(X_val_unscaled[:, columns_to_scale])"
   ]
  },
  {
   "cell_type": "code",
   "execution_count": 16,
   "metadata": {},
   "outputs": [],
   "source": [
    "def sigmoid(z):\n",
    "  return 1 / (1 + np.exp(-z))"
   ]
  },
  {
   "cell_type": "code",
   "execution_count": 17,
   "metadata": {},
   "outputs": [],
   "source": [
    "def logistic_regression(X, y, initial_rate, iterations, reg, decay_rate):\n",
    "    N, D = X.shape\n",
    "    np.random.seed(180)  # Set a specific seed (e.g., 42)\n",
    "    w = np.random.randn(D, 1) * 0.01  # Initialize with small random values\n",
    "    \n",
    "    for i in range(iterations):\n",
    "        h = sigmoid(np.dot(X, w))\n",
    "        gradient = (np.dot(X.T, (h - y))) * (1 / N) + reg * w\n",
    "        \n",
    "        # Update learning rate using decay formula\n",
    "        rate = initial_rate / (1 + decay_rate * i)\n",
    "        \n",
    "        w = w - rate * gradient\n",
    "    \n",
    "    return w\n"
   ]
  },
  {
   "cell_type": "code",
   "execution_count": 18,
   "metadata": {},
   "outputs": [],
   "source": [
    "# Predict function\n",
    "def predict(X, w):\n",
    "    probabilities = sigmoid(np.dot(X, w))\n",
    "    return [1 if x >= 0.5 else 0 for x in probabilities]"
   ]
  },
  {
   "cell_type": "code",
   "execution_count": 19,
   "metadata": {},
   "outputs": [],
   "source": [
    "initial_rate = 0.01\n",
    "iterations = 100\n",
    "reg = 1\n",
    "decay_rate = 0.01  # Adjust the decay rate as needed\n",
    "\n",
    "w = logistic_regression(X_train, y_train, initial_rate, iterations, reg, decay_rate)"
   ]
  },
  {
   "cell_type": "code",
   "execution_count": 20,
   "metadata": {},
   "outputs": [
    {
     "name": "stdout",
     "output_type": "stream",
     "text": [
      "Validation set accuracy: 69.65%\n"
     ]
    }
   ],
   "source": [
    "predictions_val = predict(X_val, w)\n",
    "accuracy = np.mean(predictions_val == y_val) * 100\n",
    "print(f'Validation set accuracy: {accuracy:.2f}%')"
   ]
  },
  {
   "cell_type": "code",
   "execution_count": 21,
   "metadata": {},
   "outputs": [],
   "source": [
    "test_df = pd.read_csv('test.csv')"
   ]
  },
  {
   "cell_type": "code",
   "execution_count": 22,
   "metadata": {},
   "outputs": [],
   "source": [
    "#Replacing the missing values by mean\n",
    "X_test=test_pipeline(test_df)\n",
    "X_test=X_test.fillna(X_test.mean(numeric_only=True))\n",
    "X_test = X_test.astype(float)\n",
    "# dataset=dataset.fillna(dataset.mean(numeric_only=True))"
   ]
  },
  {
   "cell_type": "code",
   "execution_count": 23,
   "metadata": {},
   "outputs": [
    {
     "name": "stdout",
     "output_type": "stream",
     "text": [
      "<class 'pandas.core.frame.DataFrame'>\n",
      "RangeIndex: 418 entries, 0 to 417\n",
      "Data columns (total 7 columns):\n",
      " #   Column    Non-Null Count  Dtype  \n",
      "---  ------    --------------  -----  \n",
      " 0   Pclass    418 non-null    float64\n",
      " 1   Sex       418 non-null    float64\n",
      " 2   Age       418 non-null    float64\n",
      " 3   SibSp     418 non-null    float64\n",
      " 4   Parch     418 non-null    float64\n",
      " 5   Fare      418 non-null    float64\n",
      " 6   Embarked  418 non-null    float64\n",
      "dtypes: float64(7)\n",
      "memory usage: 23.0 KB\n"
     ]
    }
   ],
   "source": [
    "X_test.info()"
   ]
  },
  {
   "cell_type": "code",
   "execution_count": 24,
   "metadata": {},
   "outputs": [],
   "source": [
    "# Bias term\n",
    "X_test = np.hstack((np.ones((X_test.shape[0],1)), X_test)) "
   ]
  },
  {
   "cell_type": "code",
   "execution_count": 25,
   "metadata": {},
   "outputs": [],
   "source": [
    "X_test=np.array(X_test)"
   ]
  },
  {
   "cell_type": "code",
   "execution_count": 26,
   "metadata": {},
   "outputs": [],
   "source": [
    "columns_to_exclude = [0, 1, 2, 7]\n",
    "\n",
    "# Create a list of columns to scale (excluding columns to exclude)\n",
    "columns_to_scale = [i for i in range(X_test.shape[1]) if i not in columns_to_exclude]\n",
    "\n",
    "# Fit the scaler on the training data and transform both training and validation data for selected columns\n",
    "X_test[:, columns_to_scale] = scaler.transform(X_test[:, columns_to_scale])"
   ]
  },
  {
   "cell_type": "code",
   "execution_count": 27,
   "metadata": {},
   "outputs": [],
   "source": [
    "# Make predictions\n",
    "predictions = predict(X_test, w)"
   ]
  },
  {
   "cell_type": "code",
   "execution_count": 28,
   "metadata": {},
   "outputs": [
    {
     "data": {
      "text/plain": [
       "Survived\n",
       "0    390\n",
       "1     28\n",
       "Name: count, dtype: int64"
      ]
     },
     "execution_count": 28,
     "metadata": {},
     "output_type": "execute_result"
    }
   ],
   "source": [
    "# predictions\n",
    "submission = pd.DataFrame({'PassengerId': test_df['PassengerId'], 'Survived': predictions})\n",
    "submission.to_csv('Predictions.csv', index=False)\n",
    "submission['Survived'].value_counts()"
   ]
  }
 ],
 "metadata": {
  "kernelspec": {
   "display_name": "Python 3",
   "language": "python",
   "name": "python3"
  },
  "language_info": {
   "codemirror_mode": {
    "name": "ipython",
    "version": 3
   },
   "file_extension": ".py",
   "mimetype": "text/x-python",
   "name": "python",
   "nbconvert_exporter": "python",
   "pygments_lexer": "ipython3",
   "version": "3.12.0"
  }
 },
 "nbformat": 4,
 "nbformat_minor": 2
}
