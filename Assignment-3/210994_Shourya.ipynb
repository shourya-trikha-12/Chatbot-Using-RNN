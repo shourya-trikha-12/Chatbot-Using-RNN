{
 "cells": [
  {
   "cell_type": "code",
   "execution_count": 62,
   "metadata": {},
   "outputs": [],
   "source": [
    "# Import necessary libraries\n",
    "import pickle\n",
    "import numpy as np\n",
    "import tensorflow as tf"
   ]
  },
  {
   "cell_type": "code",
   "execution_count": 63,
   "metadata": {},
   "outputs": [],
   "source": [
    "# Load the Dataset\n",
    "\n",
    "with open('train_qa.txt', 'rb') as train_file:\n",
    "    train_data = pickle.load(train_file)\n",
    "\n",
    "with open('test_qa.txt', 'rb') as test_file:\n",
    "    test_data = pickle.load(test_file)"
   ]
  },
  {
   "cell_type": "code",
   "execution_count": 64,
   "metadata": {},
   "outputs": [
    {
     "data": {
      "text/plain": [
       "list"
      ]
     },
     "execution_count": 64,
     "metadata": {},
     "output_type": "execute_result"
    }
   ],
   "source": [
    "type(test_data)"
   ]
  },
  {
   "cell_type": "code",
   "execution_count": 65,
   "metadata": {},
   "outputs": [
    {
     "data": {
      "text/plain": [
       "list"
      ]
     },
     "execution_count": 65,
     "metadata": {},
     "output_type": "execute_result"
    }
   ],
   "source": [
    "type(train_data)"
   ]
  },
  {
   "cell_type": "code",
   "execution_count": 66,
   "metadata": {},
   "outputs": [
    {
     "data": {
      "text/plain": [
       "10000"
      ]
     },
     "execution_count": 66,
     "metadata": {},
     "output_type": "execute_result"
    }
   ],
   "source": [
    "len(train_data)"
   ]
  },
  {
   "cell_type": "code",
   "execution_count": 67,
   "metadata": {},
   "outputs": [
    {
     "data": {
      "text/plain": [
       "1000"
      ]
     },
     "execution_count": 67,
     "metadata": {},
     "output_type": "execute_result"
    }
   ],
   "source": [
    "len(test_data)"
   ]
  },
  {
   "cell_type": "code",
   "execution_count": 68,
   "metadata": {},
   "outputs": [
    {
     "data": {
      "text/plain": [
       "(['Mary',\n",
       "  'moved',\n",
       "  'to',\n",
       "  'the',\n",
       "  'bathroom',\n",
       "  '.',\n",
       "  'Sandra',\n",
       "  'journeyed',\n",
       "  'to',\n",
       "  'the',\n",
       "  'bedroom',\n",
       "  '.'],\n",
       " ['Is', 'Sandra', 'in', 'the', 'hallway', '?'],\n",
       " 'no')"
      ]
     },
     "execution_count": 68,
     "metadata": {},
     "output_type": "execute_result"
    }
   ],
   "source": [
    "train_data[0]"
   ]
  },
  {
   "cell_type": "code",
   "execution_count": 69,
   "metadata": {},
   "outputs": [
    {
     "data": {
      "text/plain": [
       "'Mary moved to the bathroom . Sandra journeyed to the bedroom .'"
      ]
     },
     "execution_count": 69,
     "metadata": {},
     "output_type": "execute_result"
    }
   ],
   "source": [
    "' '.join(train_data[0][0]) # 1st story"
   ]
  },
  {
   "cell_type": "code",
   "execution_count": 70,
   "metadata": {},
   "outputs": [
    {
     "data": {
      "text/plain": [
       "'Is Sandra in the hallway ?'"
      ]
     },
     "execution_count": 70,
     "metadata": {},
     "output_type": "execute_result"
    }
   ],
   "source": [
    "' '.join(train_data[0][1]) # 1st question"
   ]
  },
  {
   "cell_type": "code",
   "execution_count": 71,
   "metadata": {},
   "outputs": [
    {
     "data": {
      "text/plain": [
       "'no'"
      ]
     },
     "execution_count": 71,
     "metadata": {},
     "output_type": "execute_result"
    }
   ],
   "source": [
    "train_data[0][2] # 1st answer"
   ]
  },
  {
   "cell_type": "code",
   "execution_count": 72,
   "metadata": {},
   "outputs": [],
   "source": [
    "# Creating a vocabulary of all words\n",
    "vocab = set()\n",
    "all_data = test_data + train_data\n",
    "\n",
    "for story, question , answer in all_data:\n",
    "    vocab = vocab.union(set(story))\n",
    "    vocab = vocab.union(set(question))\n",
    "\n",
    "vocab.add('no')\n",
    "vocab.add('yes')"
   ]
  },
  {
   "cell_type": "code",
   "execution_count": 73,
   "metadata": {},
   "outputs": [
    {
     "data": {
      "text/plain": [
       "{'.',\n",
       " '?',\n",
       " 'Daniel',\n",
       " 'Is',\n",
       " 'John',\n",
       " 'Mary',\n",
       " 'Sandra',\n",
       " 'apple',\n",
       " 'back',\n",
       " 'bathroom',\n",
       " 'bedroom',\n",
       " 'discarded',\n",
       " 'down',\n",
       " 'dropped',\n",
       " 'football',\n",
       " 'garden',\n",
       " 'got',\n",
       " 'grabbed',\n",
       " 'hallway',\n",
       " 'in',\n",
       " 'journeyed',\n",
       " 'kitchen',\n",
       " 'left',\n",
       " 'milk',\n",
       " 'moved',\n",
       " 'no',\n",
       " 'office',\n",
       " 'picked',\n",
       " 'put',\n",
       " 'the',\n",
       " 'there',\n",
       " 'to',\n",
       " 'took',\n",
       " 'travelled',\n",
       " 'up',\n",
       " 'went',\n",
       " 'yes'}"
      ]
     },
     "execution_count": 73,
     "metadata": {},
     "output_type": "execute_result"
    }
   ],
   "source": [
    "vocab"
   ]
  },
  {
   "cell_type": "code",
   "execution_count": 74,
   "metadata": {},
   "outputs": [],
   "source": [
    "vocab_len = len(vocab) + 1 # we add an extra space to hold a 0 for Keras's pad_sequences"
   ]
  },
  {
   "cell_type": "code",
   "execution_count": 75,
   "metadata": {},
   "outputs": [],
   "source": [
    "max_story_len = max([len(data[0]) for data in all_data])"
   ]
  },
  {
   "cell_type": "code",
   "execution_count": 76,
   "metadata": {},
   "outputs": [
    {
     "data": {
      "text/plain": [
       "156"
      ]
     },
     "execution_count": 76,
     "metadata": {},
     "output_type": "execute_result"
    }
   ],
   "source": [
    "max_story_len"
   ]
  },
  {
   "cell_type": "code",
   "execution_count": 77,
   "metadata": {},
   "outputs": [],
   "source": [
    "max_question_len = max([len(data[1]) for data in all_data])"
   ]
  },
  {
   "cell_type": "code",
   "execution_count": 78,
   "metadata": {},
   "outputs": [
    {
     "data": {
      "text/plain": [
       "6"
      ]
     },
     "execution_count": 78,
     "metadata": {},
     "output_type": "execute_result"
    }
   ],
   "source": [
    "max_question_len"
   ]
  },
  {
   "cell_type": "markdown",
   "metadata": {},
   "source": [
    "Vectorizing the data"
   ]
  },
  {
   "cell_type": "code",
   "execution_count": 79,
   "metadata": {},
   "outputs": [],
   "source": [
    "# Reserve 0 for pad_sequences\n",
    "vocab_size = len(vocab) + 1"
   ]
  },
  {
   "cell_type": "code",
   "execution_count": 80,
   "metadata": {},
   "outputs": [],
   "source": [
    "from tensorflow.keras.preprocessing.sequence import pad_sequences\n",
    "from keras.preprocessing.text import Tokenizer"
   ]
  },
  {
   "cell_type": "code",
   "execution_count": 81,
   "metadata": {},
   "outputs": [],
   "source": [
    "# integer encode sequences of words\n",
    "tokenizer = Tokenizer(filters=[])\n",
    "tokenizer.fit_on_texts(vocab)"
   ]
  },
  {
   "cell_type": "code",
   "execution_count": 82,
   "metadata": {},
   "outputs": [
    {
     "data": {
      "text/plain": [
       "{'garden': 1,\n",
       " 'in': 2,\n",
       " 'bedroom': 3,\n",
       " 'yes': 4,\n",
       " 'discarded': 5,\n",
       " 'to': 6,\n",
       " 'put': 7,\n",
       " 'grabbed': 8,\n",
       " 'mary': 9,\n",
       " 'hallway': 10,\n",
       " 'back': 11,\n",
       " 'left': 12,\n",
       " 'journeyed': 13,\n",
       " 'no': 14,\n",
       " 'down': 15,\n",
       " '.': 16,\n",
       " 'took': 17,\n",
       " 'moved': 18,\n",
       " 'john': 19,\n",
       " 'sandra': 20,\n",
       " 'milk': 21,\n",
       " '?': 22,\n",
       " 'travelled': 23,\n",
       " 'daniel': 24,\n",
       " 'office': 25,\n",
       " 'got': 26,\n",
       " 'kitchen': 27,\n",
       " 'went': 28,\n",
       " 'apple': 29,\n",
       " 'there': 30,\n",
       " 'is': 31,\n",
       " 'football': 32,\n",
       " 'picked': 33,\n",
       " 'dropped': 34,\n",
       " 'the': 35,\n",
       " 'up': 36,\n",
       " 'bathroom': 37}"
      ]
     },
     "execution_count": 82,
     "metadata": {},
     "output_type": "execute_result"
    }
   ],
   "source": [
    "tokenizer.word_index"
   ]
  },
  {
   "cell_type": "code",
   "execution_count": 83,
   "metadata": {},
   "outputs": [],
   "source": [
    "train_story_text = []\n",
    "train_question_text = []\n",
    "train_answers = []\n",
    "\n",
    "for story,question,answer in train_data:\n",
    "    train_story_text.append(story)\n",
    "    train_question_text.append(question)"
   ]
  },
  {
   "cell_type": "code",
   "execution_count": 84,
   "metadata": {},
   "outputs": [],
   "source": [
    "train_story_seq = tokenizer.texts_to_sequences(train_story_text)"
   ]
  },
  {
   "cell_type": "code",
   "execution_count": 85,
   "metadata": {},
   "outputs": [
    {
     "data": {
      "text/plain": [
       "10000"
      ]
     },
     "execution_count": 85,
     "metadata": {},
     "output_type": "execute_result"
    }
   ],
   "source": [
    "len(train_story_text)"
   ]
  },
  {
   "cell_type": "code",
   "execution_count": 86,
   "metadata": {},
   "outputs": [
    {
     "data": {
      "text/plain": [
       "10000"
      ]
     },
     "execution_count": 86,
     "metadata": {},
     "output_type": "execute_result"
    }
   ],
   "source": [
    "len(train_story_seq)"
   ]
  },
  {
   "cell_type": "code",
   "execution_count": 87,
   "metadata": {},
   "outputs": [],
   "source": [
    "# word_index = tokenizer.word_index"
   ]
  },
  {
   "cell_type": "markdown",
   "metadata": {},
   "source": [
    "Functionalize Vectorization"
   ]
  },
  {
   "cell_type": "code",
   "execution_count": 88,
   "metadata": {},
   "outputs": [],
   "source": [
    "# \n",
    "    # INPUT: \n",
    "    \n",
    "    # data: consisting of Stories,Queries,and Answers\n",
    "    # word_index: word index dictionary from tokenizer\n",
    "    # max_story_len: the length of the longest story (used for pad_sequences function)\n",
    "    # max_question_len: length of the longest question (used for pad_sequences function)\n",
    "\n",
    "\n",
    "    # OUTPUT:\n",
    "    \n",
    "    # Vectorizes the stories,questions, and answers into padded sequences. We first loop for every story, query , and\n",
    "    # answer in the data. Then we convert the raw words to an word index value. Then we append each set to their appropriate\n",
    "    # output list. Then once we have converted the words to numbers, we pad the sequences so they are all of equal length.\n",
    "    \n",
    "    # Returns this in the form of a tuple (X,Xq,Y) (padded based on max lengths)\n",
    "    \n",
    "    # \n",
    "\n",
    "def vectorize(data, word_index=tokenizer.word_index, max_story_len=max_story_len,max_question_len=max_question_len):    \n",
    "    \n",
    "    # X = STORIES\n",
    "    X = []\n",
    "    # Xq = QUERY/QUESTION\n",
    "    Xq = []\n",
    "    # Y = CORRECT ANSWER\n",
    "    Y = []\n",
    "    \n",
    "    \n",
    "    for story, query, answer in data:\n",
    "        \n",
    "        # Grab the word index for every word in story\n",
    "        x = [word_index[word.lower()] for word in story]\n",
    "        # Grab the word index for every word in query\n",
    "        xq = [word_index[word.lower()] for word in query]\n",
    "        \n",
    "        # Grab the Answers (either Yes/No so we don't need to use list comprehension here)\n",
    "        # Index 0 is reserved so we're going to use + 1\n",
    "        y = np.zeros(len(word_index) + 1)\n",
    "        \n",
    "        # Now that y is all zeros and we know its just Yes/No , we can use numpy logic to create this assignment\n",
    "        #\n",
    "        y[word_index[answer]] = 1\n",
    "        \n",
    "        # Append each set of story,query, and answer to their respective holding lists\n",
    "        X.append(x)\n",
    "        Xq.append(xq)\n",
    "        Y.append(y)\n",
    "        \n",
    "    # Finally, pad the sequences based on their max length so the RNN can be trained on uniformly long sequences.\n",
    "        \n",
    "    # RETURN TUPLE FOR UNPACKING\n",
    "    return (pad_sequences(X, maxlen=max_story_len),pad_sequences(Xq, maxlen=max_question_len), np.array(Y))"
   ]
  },
  {
   "cell_type": "code",
   "execution_count": 89,
   "metadata": {},
   "outputs": [],
   "source": [
    "inputs_train, queries_train, answers_train = vectorize(train_data)"
   ]
  },
  {
   "cell_type": "code",
   "execution_count": 90,
   "metadata": {},
   "outputs": [],
   "source": [
    "inputs_test, queries_test, answers_test = vectorize(test_data)"
   ]
  },
  {
   "cell_type": "code",
   "execution_count": 91,
   "metadata": {},
   "outputs": [
    {
     "data": {
      "text/plain": [
       "array([[ 0,  0,  0, ..., 35,  3, 16],\n",
       "       [ 0,  0,  0, ..., 35,  1, 16],\n",
       "       [ 0,  0,  0, ..., 35,  1, 16],\n",
       "       ...,\n",
       "       [ 0,  0,  0, ..., 35, 29, 16],\n",
       "       [ 0,  0,  0, ..., 35,  1, 16],\n",
       "       [ 0,  0,  0, ..., 29, 30, 16]])"
      ]
     },
     "execution_count": 91,
     "metadata": {},
     "output_type": "execute_result"
    }
   ],
   "source": [
    "inputs_test"
   ]
  },
  {
   "cell_type": "code",
   "execution_count": 92,
   "metadata": {},
   "outputs": [
    {
     "data": {
      "text/plain": [
       "array([[31, 19,  2, 35, 27, 22],\n",
       "       [31, 19,  2, 35, 27, 22],\n",
       "       [31, 19,  2, 35,  1, 22],\n",
       "       ...,\n",
       "       [31,  9,  2, 35,  3, 22],\n",
       "       [31, 20,  2, 35,  1, 22],\n",
       "       [31,  9,  2, 35,  1, 22]])"
      ]
     },
     "execution_count": 92,
     "metadata": {},
     "output_type": "execute_result"
    }
   ],
   "source": [
    "queries_test"
   ]
  },
  {
   "cell_type": "code",
   "execution_count": 93,
   "metadata": {},
   "outputs": [
    {
     "data": {
      "text/plain": [
       "array([[0., 0., 0., ..., 0., 0., 0.],\n",
       "       [0., 0., 0., ..., 0., 0., 0.],\n",
       "       [0., 0., 0., ..., 0., 0., 0.],\n",
       "       ...,\n",
       "       [0., 0., 0., ..., 0., 0., 0.],\n",
       "       [0., 0., 0., ..., 0., 0., 0.],\n",
       "       [0., 0., 0., ..., 0., 0., 0.]])"
      ]
     },
     "execution_count": 93,
     "metadata": {},
     "output_type": "execute_result"
    }
   ],
   "source": [
    "answers_test"
   ]
  },
  {
   "cell_type": "code",
   "execution_count": 94,
   "metadata": {},
   "outputs": [
    {
     "data": {
      "text/plain": [
       "array([  0.,   0.,   0.,   0., 497.,   0.,   0.,   0.,   0.,   0.,   0.,\n",
       "         0.,   0.,   0., 503.,   0.,   0.,   0.,   0.,   0.,   0.,   0.,\n",
       "         0.,   0.,   0.,   0.,   0.,   0.,   0.,   0.,   0.,   0.,   0.,\n",
       "         0.,   0.,   0.,   0.,   0.])"
      ]
     },
     "execution_count": 94,
     "metadata": {},
     "output_type": "execute_result"
    }
   ],
   "source": [
    "sum(answers_test)"
   ]
  },
  {
   "cell_type": "code",
   "execution_count": 95,
   "metadata": {},
   "outputs": [
    {
     "data": {
      "text/plain": [
       "4"
      ]
     },
     "execution_count": 95,
     "metadata": {},
     "output_type": "execute_result"
    }
   ],
   "source": [
    "tokenizer.word_index['yes']"
   ]
  },
  {
   "cell_type": "code",
   "execution_count": 96,
   "metadata": {},
   "outputs": [
    {
     "data": {
      "text/plain": [
       "14"
      ]
     },
     "execution_count": 96,
     "metadata": {},
     "output_type": "execute_result"
    }
   ],
   "source": [
    "tokenizer.word_index['no']"
   ]
  },
  {
   "cell_type": "markdown",
   "metadata": {},
   "source": [
    "Creating the model"
   ]
  },
  {
   "cell_type": "code",
   "execution_count": 97,
   "metadata": {},
   "outputs": [],
   "source": [
    "from keras.models import Sequential, Model\n",
    "from keras.layers import Embedding\n",
    "from keras.layers import Input, Activation, Dense, Permute, Dropout\n",
    "from keras.layers import add, dot, concatenate\n",
    "from keras.layers import LSTM"
   ]
  },
  {
   "cell_type": "markdown",
   "metadata": {},
   "source": [
    "Placeholders for Inputs\n",
    "\n",
    "We have two inputs, stories and questions. So we need to use placeholders. Input() is used to instantiate a Keras tensor."
   ]
  },
  {
   "cell_type": "code",
   "execution_count": 98,
   "metadata": {},
   "outputs": [],
   "source": [
    "input_sequence = Input((max_story_len,))\n",
    "question = Input((max_question_len,))"
   ]
  },
  {
   "cell_type": "markdown",
   "metadata": {},
   "source": [
    "Building the Network"
   ]
  },
  {
   "cell_type": "markdown",
   "metadata": {},
   "source": [
    "Encoders"
   ]
  },
  {
   "cell_type": "markdown",
   "metadata": {},
   "source": [
    "Input Encoder m"
   ]
  },
  {
   "cell_type": "code",
   "execution_count": 99,
   "metadata": {},
   "outputs": [],
   "source": [
    "# Input gets embedded to a sequence of vectors\n",
    "input_encoder_m = Sequential()\n",
    "input_encoder_m.add(Embedding(input_dim=vocab_size,output_dim=64))\n",
    "input_encoder_m.add(Dropout(0.3))\n",
    "\n",
    "# This encoder will output:\n",
    "# (samples, story_maxlen, embedding_dim)"
   ]
  },
  {
   "cell_type": "markdown",
   "metadata": {},
   "source": [
    "Input Encoder c"
   ]
  },
  {
   "cell_type": "code",
   "execution_count": 100,
   "metadata": {},
   "outputs": [],
   "source": [
    "# embed the input into a sequence of vectors of size query_maxlen\n",
    "input_encoder_c = Sequential()\n",
    "input_encoder_c.add(Embedding(input_dim=vocab_size,output_dim=max_question_len))\n",
    "input_encoder_c.add(Dropout(0.3))\n",
    "# output: (samples, story_maxlen, query_maxlen)"
   ]
  },
  {
   "cell_type": "markdown",
   "metadata": {},
   "source": [
    "Question Encoder"
   ]
  },
  {
   "cell_type": "code",
   "execution_count": 101,
   "metadata": {},
   "outputs": [],
   "source": [
    "# embed the question into a sequence of vectors\n",
    "question_encoder = Sequential()\n",
    "question_encoder.add(Embedding(input_dim=vocab_size,\n",
    "                               output_dim=64,\n",
    "                               input_length=max_question_len))\n",
    "question_encoder.add(Dropout(0.3))\n",
    "# output: (samples, query_maxlen, embedding_dim)"
   ]
  },
  {
   "cell_type": "markdown",
   "metadata": {},
   "source": [
    "Encode the Sequences"
   ]
  },
  {
   "cell_type": "code",
   "execution_count": 102,
   "metadata": {},
   "outputs": [],
   "source": [
    "# encode input sequence and questions (which are indices)\n",
    "# to sequences of dense vectors\n",
    "input_encoded_m = input_encoder_m(input_sequence)\n",
    "input_encoded_c = input_encoder_c(input_sequence)\n",
    "question_encoded = question_encoder(question)"
   ]
  },
  {
   "cell_type": "code",
   "execution_count": 103,
   "metadata": {},
   "outputs": [],
   "source": [
    "# shape: `(samples, story_maxlen, query_maxlen)`\n",
    "# Use dot product to compute the match between first input vector seq and the query\n",
    "match = dot([input_encoded_m, question_encoded], axes=(2, 2))\n",
    "match = Activation('softmax')(match)"
   ]
  },
  {
   "cell_type": "code",
   "execution_count": 104,
   "metadata": {},
   "outputs": [],
   "source": [
    "# add the match matrix with the second input vector sequence\n",
    "response = add([match, input_encoded_c])  # (samples, story_maxlen, query_maxlen)\n",
    "response = Permute((2, 1))(response)  # (samples, query_maxlen, story_maxlen)"
   ]
  },
  {
   "cell_type": "markdown",
   "metadata": {},
   "source": [
    "Concatenate"
   ]
  },
  {
   "cell_type": "code",
   "execution_count": 105,
   "metadata": {},
   "outputs": [],
   "source": [
    "# concatenate the match matrix with the question vector sequence\n",
    "answer = concatenate([response, question_encoded])"
   ]
  },
  {
   "cell_type": "code",
   "execution_count": 106,
   "metadata": {},
   "outputs": [
    {
     "data": {
      "text/plain": [
       "<KerasTensor: shape=(None, 6, 220) dtype=float32 (created by layer 'concatenate_1')>"
      ]
     },
     "execution_count": 106,
     "metadata": {},
     "output_type": "execute_result"
    }
   ],
   "source": [
    "answer"
   ]
  },
  {
   "cell_type": "code",
   "execution_count": 107,
   "metadata": {},
   "outputs": [],
   "source": [
    "# Reduce with RNN (LSTM)\n",
    "answer = LSTM(32)(answer)  # (samples, 32)"
   ]
  },
  {
   "cell_type": "code",
   "execution_count": 108,
   "metadata": {},
   "outputs": [],
   "source": [
    "# Regularization with Dropout\n",
    "answer = Dropout(0.5)(answer)\n",
    "answer = Dense(vocab_size)(answer)  # (samples, vocab_size)"
   ]
  },
  {
   "cell_type": "code",
   "execution_count": 109,
   "metadata": {},
   "outputs": [],
   "source": [
    "# we output a probability distribution over the vocabulary\n",
    "answer = Activation('softmax')(answer)\n",
    "\n",
    "# build the final model\n",
    "model = Model([input_sequence, question], answer)\n",
    "model.compile(optimizer='rmsprop', loss='categorical_crossentropy',\n",
    "              metrics=['accuracy'])"
   ]
  },
  {
   "cell_type": "code",
   "execution_count": 110,
   "metadata": {},
   "outputs": [
    {
     "name": "stdout",
     "output_type": "stream",
     "text": [
      "Model: \"model_1\"\n",
      "__________________________________________________________________________________________________\n",
      " Layer (type)                Output Shape                 Param #   Connected to                  \n",
      "==================================================================================================\n",
      " input_3 (InputLayer)        [(None, 156)]                0         []                            \n",
      "                                                                                                  \n",
      " input_4 (InputLayer)        [(None, 6)]                  0         []                            \n",
      "                                                                                                  \n",
      " sequential_3 (Sequential)   (None, None, 64)             2432      ['input_3[0][0]']             \n",
      "                                                                                                  \n",
      " sequential_5 (Sequential)   (None, 6, 64)                2432      ['input_4[0][0]']             \n",
      "                                                                                                  \n",
      " dot_1 (Dot)                 (None, 156, 6)               0         ['sequential_3[0][0]',        \n",
      "                                                                     'sequential_5[0][0]']        \n",
      "                                                                                                  \n",
      " activation_2 (Activation)   (None, 156, 6)               0         ['dot_1[0][0]']               \n",
      "                                                                                                  \n",
      " sequential_4 (Sequential)   (None, None, 6)              228       ['input_3[0][0]']             \n",
      "                                                                                                  \n",
      " add_1 (Add)                 (None, 156, 6)               0         ['activation_2[0][0]',        \n",
      "                                                                     'sequential_4[0][0]']        \n",
      "                                                                                                  \n",
      " permute_1 (Permute)         (None, 6, 156)               0         ['add_1[0][0]']               \n",
      "                                                                                                  \n",
      " concatenate_1 (Concatenate  (None, 6, 220)               0         ['permute_1[0][0]',           \n",
      " )                                                                   'sequential_5[0][0]']        \n",
      "                                                                                                  \n",
      " lstm_1 (LSTM)               (None, 32)                   32384     ['concatenate_1[0][0]']       \n",
      "                                                                                                  \n",
      " dropout_7 (Dropout)         (None, 32)                   0         ['lstm_1[0][0]']              \n",
      "                                                                                                  \n",
      " dense_1 (Dense)             (None, 38)                   1254      ['dropout_7[0][0]']           \n",
      "                                                                                                  \n",
      " activation_3 (Activation)   (None, 38)                   0         ['dense_1[0][0]']             \n",
      "                                                                                                  \n",
      "==================================================================================================\n",
      "Total params: 38730 (151.29 KB)\n",
      "Trainable params: 38730 (151.29 KB)\n",
      "Non-trainable params: 0 (0.00 Byte)\n",
      "__________________________________________________________________________________________________\n"
     ]
    }
   ],
   "source": [
    "model.summary()"
   ]
  },
  {
   "cell_type": "code",
   "execution_count": 111,
   "metadata": {},
   "outputs": [
    {
     "name": "stdout",
     "output_type": "stream",
     "text": [
      "Epoch 1/120\n"
     ]
    },
    {
     "name": "stdout",
     "output_type": "stream",
     "text": [
      "313/313 [==============================] - 4s 8ms/step - loss: 0.9018 - accuracy: 0.4910 - val_loss: 0.6977 - val_accuracy: 0.4970\n",
      "Epoch 2/120\n",
      "313/313 [==============================] - 2s 6ms/step - loss: 0.7077 - accuracy: 0.4942 - val_loss: 0.6950 - val_accuracy: 0.5030\n",
      "Epoch 3/120\n",
      "313/313 [==============================] - 2s 6ms/step - loss: 0.6977 - accuracy: 0.5010 - val_loss: 0.6932 - val_accuracy: 0.5030\n",
      "Epoch 4/120\n",
      "313/313 [==============================] - 2s 6ms/step - loss: 0.6962 - accuracy: 0.4964 - val_loss: 0.6946 - val_accuracy: 0.5030\n",
      "Epoch 5/120\n",
      "313/313 [==============================] - 2s 6ms/step - loss: 0.6952 - accuracy: 0.5101 - val_loss: 0.6933 - val_accuracy: 0.5030\n",
      "Epoch 6/120\n",
      "313/313 [==============================] - 2s 5ms/step - loss: 0.6957 - accuracy: 0.4995 - val_loss: 0.6941 - val_accuracy: 0.5030\n",
      "Epoch 7/120\n",
      "313/313 [==============================] - 2s 5ms/step - loss: 0.6955 - accuracy: 0.4971 - val_loss: 0.6984 - val_accuracy: 0.4970\n",
      "Epoch 8/120\n",
      "313/313 [==============================] - 2s 6ms/step - loss: 0.6956 - accuracy: 0.4961 - val_loss: 0.6945 - val_accuracy: 0.5030\n",
      "Epoch 9/120\n",
      "313/313 [==============================] - 2s 6ms/step - loss: 0.6946 - accuracy: 0.5061 - val_loss: 0.6946 - val_accuracy: 0.5030\n",
      "Epoch 10/120\n",
      "313/313 [==============================] - 2s 6ms/step - loss: 0.6949 - accuracy: 0.5017 - val_loss: 0.6932 - val_accuracy: 0.5030\n",
      "Epoch 11/120\n",
      "313/313 [==============================] - 2s 6ms/step - loss: 0.6954 - accuracy: 0.4995 - val_loss: 0.6932 - val_accuracy: 0.4970\n",
      "Epoch 12/120\n",
      "313/313 [==============================] - 2s 6ms/step - loss: 0.6952 - accuracy: 0.4986 - val_loss: 0.6933 - val_accuracy: 0.5030\n",
      "Epoch 13/120\n",
      "313/313 [==============================] - 2s 5ms/step - loss: 0.6949 - accuracy: 0.5020 - val_loss: 0.6940 - val_accuracy: 0.5030\n",
      "Epoch 14/120\n",
      "313/313 [==============================] - 2s 6ms/step - loss: 0.6951 - accuracy: 0.4991 - val_loss: 0.6944 - val_accuracy: 0.4970\n",
      "Epoch 15/120\n",
      "313/313 [==============================] - 2s 6ms/step - loss: 0.6959 - accuracy: 0.4933 - val_loss: 0.6932 - val_accuracy: 0.4970\n",
      "Epoch 16/120\n",
      "313/313 [==============================] - 2s 6ms/step - loss: 0.6948 - accuracy: 0.5080 - val_loss: 0.6936 - val_accuracy: 0.5030\n",
      "Epoch 17/120\n",
      "313/313 [==============================] - 2s 5ms/step - loss: 0.6952 - accuracy: 0.4992 - val_loss: 0.6931 - val_accuracy: 0.5030\n",
      "Epoch 18/120\n",
      "313/313 [==============================] - 2s 5ms/step - loss: 0.6949 - accuracy: 0.5023 - val_loss: 0.6941 - val_accuracy: 0.4970\n",
      "Epoch 19/120\n",
      "313/313 [==============================] - 2s 5ms/step - loss: 0.6954 - accuracy: 0.4921 - val_loss: 0.6935 - val_accuracy: 0.4970\n",
      "Epoch 20/120\n",
      "313/313 [==============================] - 2s 5ms/step - loss: 0.6950 - accuracy: 0.4966 - val_loss: 0.6947 - val_accuracy: 0.5030\n",
      "Epoch 21/120\n",
      "313/313 [==============================] - 2s 5ms/step - loss: 0.6949 - accuracy: 0.5049 - val_loss: 0.6935 - val_accuracy: 0.4970\n",
      "Epoch 22/120\n",
      "313/313 [==============================] - 2s 5ms/step - loss: 0.6945 - accuracy: 0.5046 - val_loss: 0.6931 - val_accuracy: 0.5030\n",
      "Epoch 23/120\n",
      "313/313 [==============================] - 2s 5ms/step - loss: 0.6951 - accuracy: 0.4988 - val_loss: 0.6947 - val_accuracy: 0.4970\n",
      "Epoch 24/120\n",
      "313/313 [==============================] - 2s 6ms/step - loss: 0.6947 - accuracy: 0.5042 - val_loss: 0.6945 - val_accuracy: 0.5030\n",
      "Epoch 25/120\n",
      "313/313 [==============================] - 2s 5ms/step - loss: 0.6946 - accuracy: 0.5067 - val_loss: 0.6943 - val_accuracy: 0.4970\n",
      "Epoch 26/120\n",
      "313/313 [==============================] - 2s 6ms/step - loss: 0.6952 - accuracy: 0.5013 - val_loss: 0.6931 - val_accuracy: 0.5030\n",
      "Epoch 27/120\n",
      "313/313 [==============================] - 2s 5ms/step - loss: 0.6955 - accuracy: 0.4988 - val_loss: 0.6936 - val_accuracy: 0.4970\n",
      "Epoch 28/120\n",
      "313/313 [==============================] - 2s 5ms/step - loss: 0.6945 - accuracy: 0.5018 - val_loss: 0.6945 - val_accuracy: 0.5030\n",
      "Epoch 29/120\n",
      "313/313 [==============================] - 2s 6ms/step - loss: 0.6956 - accuracy: 0.4962 - val_loss: 0.6942 - val_accuracy: 0.4970\n",
      "Epoch 30/120\n",
      "313/313 [==============================] - 2s 6ms/step - loss: 0.6954 - accuracy: 0.4944 - val_loss: 0.6938 - val_accuracy: 0.4970\n",
      "Epoch 31/120\n",
      "313/313 [==============================] - 2s 5ms/step - loss: 0.6952 - accuracy: 0.4975 - val_loss: 0.6934 - val_accuracy: 0.5030\n",
      "Epoch 32/120\n",
      "313/313 [==============================] - 2s 5ms/step - loss: 0.6952 - accuracy: 0.5006 - val_loss: 0.6931 - val_accuracy: 0.5030\n",
      "Epoch 33/120\n",
      "313/313 [==============================] - 2s 5ms/step - loss: 0.6948 - accuracy: 0.4956 - val_loss: 0.6942 - val_accuracy: 0.5030\n",
      "Epoch 34/120\n",
      "313/313 [==============================] - 1s 5ms/step - loss: 0.6958 - accuracy: 0.4896 - val_loss: 0.6949 - val_accuracy: 0.4970\n",
      "Epoch 35/120\n",
      "313/313 [==============================] - 1s 5ms/step - loss: 0.6948 - accuracy: 0.4931 - val_loss: 0.6937 - val_accuracy: 0.4970\n",
      "Epoch 36/120\n",
      "313/313 [==============================] - 2s 5ms/step - loss: 0.6956 - accuracy: 0.4884 - val_loss: 0.6936 - val_accuracy: 0.5030\n",
      "Epoch 37/120\n",
      "313/313 [==============================] - 2s 5ms/step - loss: 0.6944 - accuracy: 0.5010 - val_loss: 0.6960 - val_accuracy: 0.5030\n",
      "Epoch 38/120\n",
      "313/313 [==============================] - 2s 5ms/step - loss: 0.6949 - accuracy: 0.5004 - val_loss: 0.6932 - val_accuracy: 0.5030\n",
      "Epoch 39/120\n",
      "313/313 [==============================] - 2s 5ms/step - loss: 0.6950 - accuracy: 0.4969 - val_loss: 0.6931 - val_accuracy: 0.5030\n",
      "Epoch 40/120\n",
      "313/313 [==============================] - 2s 5ms/step - loss: 0.6950 - accuracy: 0.4937 - val_loss: 0.6937 - val_accuracy: 0.4970\n",
      "Epoch 41/120\n",
      "313/313 [==============================] - 2s 5ms/step - loss: 0.6949 - accuracy: 0.4946 - val_loss: 0.6947 - val_accuracy: 0.5030\n",
      "Epoch 42/120\n",
      "313/313 [==============================] - 2s 5ms/step - loss: 0.6954 - accuracy: 0.4982 - val_loss: 0.6940 - val_accuracy: 0.4970\n",
      "Epoch 43/120\n",
      "313/313 [==============================] - 2s 5ms/step - loss: 0.6948 - accuracy: 0.4999 - val_loss: 0.6944 - val_accuracy: 0.4970\n",
      "Epoch 44/120\n",
      "313/313 [==============================] - 2s 5ms/step - loss: 0.6950 - accuracy: 0.4976 - val_loss: 0.6936 - val_accuracy: 0.4970\n",
      "Epoch 45/120\n",
      "313/313 [==============================] - 2s 5ms/step - loss: 0.6951 - accuracy: 0.4893 - val_loss: 0.6939 - val_accuracy: 0.4970\n",
      "Epoch 46/120\n",
      "313/313 [==============================] - 2s 5ms/step - loss: 0.6951 - accuracy: 0.4988 - val_loss: 0.6931 - val_accuracy: 0.5030\n",
      "Epoch 47/120\n",
      "313/313 [==============================] - 2s 5ms/step - loss: 0.6951 - accuracy: 0.4925 - val_loss: 0.6954 - val_accuracy: 0.4970\n",
      "Epoch 48/120\n",
      "313/313 [==============================] - 2s 5ms/step - loss: 0.6948 - accuracy: 0.5027 - val_loss: 0.6933 - val_accuracy: 0.4970\n",
      "Epoch 49/120\n",
      "313/313 [==============================] - 2s 5ms/step - loss: 0.6947 - accuracy: 0.5015 - val_loss: 0.6931 - val_accuracy: 0.5030\n",
      "Epoch 50/120\n",
      "313/313 [==============================] - 2s 5ms/step - loss: 0.6948 - accuracy: 0.5038 - val_loss: 0.6931 - val_accuracy: 0.5090\n",
      "Epoch 51/120\n",
      "313/313 [==============================] - 2s 5ms/step - loss: 0.6950 - accuracy: 0.4917 - val_loss: 0.6934 - val_accuracy: 0.4970\n",
      "Epoch 52/120\n",
      "313/313 [==============================] - 2s 5ms/step - loss: 0.6949 - accuracy: 0.4983 - val_loss: 0.6932 - val_accuracy: 0.5030\n",
      "Epoch 53/120\n",
      "313/313 [==============================] - 2s 6ms/step - loss: 0.6943 - accuracy: 0.5045 - val_loss: 0.6951 - val_accuracy: 0.4970\n",
      "Epoch 54/120\n",
      "313/313 [==============================] - 3s 10ms/step - loss: 0.6948 - accuracy: 0.5018 - val_loss: 0.6932 - val_accuracy: 0.5030\n",
      "Epoch 55/120\n",
      "313/313 [==============================] - 2s 6ms/step - loss: 0.6950 - accuracy: 0.5011 - val_loss: 0.6931 - val_accuracy: 0.5060\n",
      "Epoch 56/120\n",
      "313/313 [==============================] - 2s 5ms/step - loss: 0.6944 - accuracy: 0.5005 - val_loss: 0.6933 - val_accuracy: 0.4970\n",
      "Epoch 57/120\n",
      "313/313 [==============================] - 2s 6ms/step - loss: 0.6949 - accuracy: 0.4952 - val_loss: 0.6946 - val_accuracy: 0.4970\n",
      "Epoch 58/120\n",
      "313/313 [==============================] - 3s 8ms/step - loss: 0.6943 - accuracy: 0.4977 - val_loss: 0.6926 - val_accuracy: 0.5160\n",
      "Epoch 59/120\n",
      "313/313 [==============================] - 2s 7ms/step - loss: 0.6939 - accuracy: 0.5075 - val_loss: 0.6930 - val_accuracy: 0.5260\n",
      "Epoch 60/120\n",
      "313/313 [==============================] - 2s 6ms/step - loss: 0.6937 - accuracy: 0.5100 - val_loss: 0.6929 - val_accuracy: 0.4950\n",
      "Epoch 61/120\n",
      "313/313 [==============================] - 2s 5ms/step - loss: 0.6942 - accuracy: 0.5061 - val_loss: 0.6999 - val_accuracy: 0.4970\n",
      "Epoch 62/120\n",
      "313/313 [==============================] - 2s 6ms/step - loss: 0.6943 - accuracy: 0.5051 - val_loss: 0.6930 - val_accuracy: 0.5080\n",
      "Epoch 63/120\n",
      "313/313 [==============================] - 2s 5ms/step - loss: 0.6936 - accuracy: 0.5139 - val_loss: 0.6933 - val_accuracy: 0.5090\n",
      "Epoch 64/120\n",
      "313/313 [==============================] - 2s 6ms/step - loss: 0.6934 - accuracy: 0.5133 - val_loss: 0.6936 - val_accuracy: 0.5090\n",
      "Epoch 65/120\n",
      "313/313 [==============================] - 2s 5ms/step - loss: 0.6937 - accuracy: 0.5155 - val_loss: 0.6944 - val_accuracy: 0.5050\n",
      "Epoch 66/120\n",
      "313/313 [==============================] - 2s 5ms/step - loss: 0.6926 - accuracy: 0.5203 - val_loss: 0.6939 - val_accuracy: 0.5030\n",
      "Epoch 67/120\n",
      "313/313 [==============================] - 2s 5ms/step - loss: 0.6933 - accuracy: 0.5152 - val_loss: 0.6956 - val_accuracy: 0.4980\n",
      "Epoch 68/120\n",
      "313/313 [==============================] - 2s 7ms/step - loss: 0.6919 - accuracy: 0.5214 - val_loss: 0.6944 - val_accuracy: 0.5070\n",
      "Epoch 69/120\n",
      "313/313 [==============================] - 2s 5ms/step - loss: 0.6929 - accuracy: 0.5167 - val_loss: 0.6939 - val_accuracy: 0.5200\n",
      "Epoch 70/120\n",
      "313/313 [==============================] - 2s 5ms/step - loss: 0.6916 - accuracy: 0.5238 - val_loss: 0.6944 - val_accuracy: 0.4990\n",
      "Epoch 71/120\n",
      "313/313 [==============================] - 2s 5ms/step - loss: 0.6898 - accuracy: 0.5239 - val_loss: 0.6980 - val_accuracy: 0.4970\n",
      "Epoch 72/120\n",
      "313/313 [==============================] - 2s 5ms/step - loss: 0.6861 - accuracy: 0.5409 - val_loss: 0.6954 - val_accuracy: 0.5190\n",
      "Epoch 73/120\n",
      "313/313 [==============================] - 2s 5ms/step - loss: 0.6811 - accuracy: 0.5487 - val_loss: 0.6894 - val_accuracy: 0.5420\n",
      "Epoch 74/120\n",
      "313/313 [==============================] - 2s 6ms/step - loss: 0.6698 - accuracy: 0.5857 - val_loss: 0.6660 - val_accuracy: 0.6030\n",
      "Epoch 75/120\n",
      "313/313 [==============================] - 2s 6ms/step - loss: 0.6552 - accuracy: 0.6115 - val_loss: 0.6417 - val_accuracy: 0.6430\n",
      "Epoch 76/120\n",
      "313/313 [==============================] - 2s 6ms/step - loss: 0.6353 - accuracy: 0.6425 - val_loss: 0.6306 - val_accuracy: 0.6440\n",
      "Epoch 77/120\n",
      "313/313 [==============================] - 2s 5ms/step - loss: 0.6223 - accuracy: 0.6610 - val_loss: 0.6221 - val_accuracy: 0.6380\n",
      "Epoch 78/120\n",
      "313/313 [==============================] - 2s 5ms/step - loss: 0.6145 - accuracy: 0.6695 - val_loss: 0.6213 - val_accuracy: 0.6690\n",
      "Epoch 79/120\n",
      "313/313 [==============================] - 2s 5ms/step - loss: 0.6061 - accuracy: 0.6820 - val_loss: 0.5972 - val_accuracy: 0.6690\n",
      "Epoch 80/120\n",
      "313/313 [==============================] - 2s 5ms/step - loss: 0.5968 - accuracy: 0.6919 - val_loss: 0.5819 - val_accuracy: 0.6960\n",
      "Epoch 81/120\n",
      "313/313 [==============================] - 2s 5ms/step - loss: 0.5789 - accuracy: 0.7067 - val_loss: 0.5621 - val_accuracy: 0.7130\n",
      "Epoch 82/120\n",
      "313/313 [==============================] - 2s 5ms/step - loss: 0.5568 - accuracy: 0.7306 - val_loss: 0.5602 - val_accuracy: 0.7240\n",
      "Epoch 83/120\n",
      "313/313 [==============================] - 2s 5ms/step - loss: 0.5376 - accuracy: 0.7460 - val_loss: 0.5052 - val_accuracy: 0.7670\n",
      "Epoch 84/120\n",
      "313/313 [==============================] - 2s 5ms/step - loss: 0.5148 - accuracy: 0.7631 - val_loss: 0.5023 - val_accuracy: 0.7770\n",
      "Epoch 85/120\n",
      "313/313 [==============================] - 2s 5ms/step - loss: 0.4989 - accuracy: 0.7742 - val_loss: 0.4843 - val_accuracy: 0.7790\n",
      "Epoch 86/120\n",
      "313/313 [==============================] - 2s 5ms/step - loss: 0.4721 - accuracy: 0.7910 - val_loss: 0.4519 - val_accuracy: 0.7900\n",
      "Epoch 87/120\n",
      "313/313 [==============================] - 2s 5ms/step - loss: 0.4639 - accuracy: 0.7991 - val_loss: 0.4651 - val_accuracy: 0.7970\n",
      "Epoch 88/120\n",
      "313/313 [==============================] - 2s 5ms/step - loss: 0.4456 - accuracy: 0.8074 - val_loss: 0.4265 - val_accuracy: 0.8040\n",
      "Epoch 89/120\n",
      "313/313 [==============================] - 2s 5ms/step - loss: 0.4342 - accuracy: 0.8145 - val_loss: 0.4193 - val_accuracy: 0.8100\n",
      "Epoch 90/120\n",
      "313/313 [==============================] - 2s 5ms/step - loss: 0.4217 - accuracy: 0.8168 - val_loss: 0.4330 - val_accuracy: 0.7910\n",
      "Epoch 91/120\n",
      "313/313 [==============================] - 2s 5ms/step - loss: 0.4175 - accuracy: 0.8236 - val_loss: 0.4243 - val_accuracy: 0.7990\n",
      "Epoch 92/120\n",
      "313/313 [==============================] - 2s 5ms/step - loss: 0.4112 - accuracy: 0.8232 - val_loss: 0.4221 - val_accuracy: 0.8100\n",
      "Epoch 93/120\n",
      "313/313 [==============================] - 2s 5ms/step - loss: 0.3988 - accuracy: 0.8322 - val_loss: 0.3951 - val_accuracy: 0.8230\n",
      "Epoch 94/120\n",
      "313/313 [==============================] - 2s 5ms/step - loss: 0.3939 - accuracy: 0.8344 - val_loss: 0.3826 - val_accuracy: 0.8230\n",
      "Epoch 95/120\n",
      "313/313 [==============================] - 2s 5ms/step - loss: 0.3941 - accuracy: 0.8322 - val_loss: 0.3824 - val_accuracy: 0.8290\n",
      "Epoch 96/120\n",
      "313/313 [==============================] - 2s 5ms/step - loss: 0.3865 - accuracy: 0.8344 - val_loss: 0.4122 - val_accuracy: 0.8240\n",
      "Epoch 97/120\n",
      "313/313 [==============================] - 2s 5ms/step - loss: 0.3780 - accuracy: 0.8385 - val_loss: 0.3775 - val_accuracy: 0.8280\n",
      "Epoch 98/120\n",
      "313/313 [==============================] - 2s 5ms/step - loss: 0.3761 - accuracy: 0.8398 - val_loss: 0.3828 - val_accuracy: 0.8190\n",
      "Epoch 99/120\n",
      "313/313 [==============================] - 2s 5ms/step - loss: 0.3698 - accuracy: 0.8413 - val_loss: 0.3686 - val_accuracy: 0.8300\n",
      "Epoch 100/120\n",
      "313/313 [==============================] - 2s 5ms/step - loss: 0.3666 - accuracy: 0.8435 - val_loss: 0.3886 - val_accuracy: 0.8240\n",
      "Epoch 101/120\n",
      "313/313 [==============================] - 2s 5ms/step - loss: 0.3624 - accuracy: 0.8451 - val_loss: 0.3914 - val_accuracy: 0.8170\n",
      "Epoch 102/120\n",
      "313/313 [==============================] - 2s 5ms/step - loss: 0.3553 - accuracy: 0.8467 - val_loss: 0.3640 - val_accuracy: 0.8230\n",
      "Epoch 103/120\n",
      "313/313 [==============================] - 2s 5ms/step - loss: 0.3503 - accuracy: 0.8504 - val_loss: 0.3640 - val_accuracy: 0.8260\n",
      "Epoch 104/120\n",
      "313/313 [==============================] - 2s 5ms/step - loss: 0.3505 - accuracy: 0.8506 - val_loss: 0.3673 - val_accuracy: 0.8200\n",
      "Epoch 105/120\n",
      "313/313 [==============================] - 2s 5ms/step - loss: 0.3431 - accuracy: 0.8513 - val_loss: 0.3772 - val_accuracy: 0.8320\n",
      "Epoch 106/120\n",
      "313/313 [==============================] - 2s 5ms/step - loss: 0.3448 - accuracy: 0.8522 - val_loss: 0.3766 - val_accuracy: 0.8260\n",
      "Epoch 107/120\n",
      "313/313 [==============================] - 2s 5ms/step - loss: 0.3472 - accuracy: 0.8534 - val_loss: 0.3691 - val_accuracy: 0.8320\n",
      "Epoch 108/120\n",
      "313/313 [==============================] - 2s 5ms/step - loss: 0.3447 - accuracy: 0.8485 - val_loss: 0.3733 - val_accuracy: 0.8320\n",
      "Epoch 109/120\n",
      "313/313 [==============================] - 2s 5ms/step - loss: 0.3361 - accuracy: 0.8586 - val_loss: 0.3856 - val_accuracy: 0.8210\n",
      "Epoch 110/120\n",
      "313/313 [==============================] - 2s 5ms/step - loss: 0.3341 - accuracy: 0.8571 - val_loss: 0.3577 - val_accuracy: 0.8360\n",
      "Epoch 111/120\n",
      "313/313 [==============================] - 2s 5ms/step - loss: 0.3323 - accuracy: 0.8579 - val_loss: 0.3655 - val_accuracy: 0.8370\n",
      "Epoch 112/120\n",
      "313/313 [==============================] - 2s 5ms/step - loss: 0.3247 - accuracy: 0.8621 - val_loss: 0.3632 - val_accuracy: 0.8320\n",
      "Epoch 113/120\n",
      "313/313 [==============================] - 2s 5ms/step - loss: 0.3239 - accuracy: 0.8619 - val_loss: 0.3850 - val_accuracy: 0.8090\n",
      "Epoch 114/120\n",
      "313/313 [==============================] - 2s 5ms/step - loss: 0.3267 - accuracy: 0.8604 - val_loss: 0.3709 - val_accuracy: 0.8250\n",
      "Epoch 115/120\n",
      "313/313 [==============================] - 2s 5ms/step - loss: 0.3203 - accuracy: 0.8617 - val_loss: 0.3857 - val_accuracy: 0.8200\n",
      "Epoch 116/120\n",
      "313/313 [==============================] - 2s 5ms/step - loss: 0.3165 - accuracy: 0.8617 - val_loss: 0.3460 - val_accuracy: 0.8300\n",
      "Epoch 117/120\n",
      "313/313 [==============================] - 2s 5ms/step - loss: 0.3148 - accuracy: 0.8632 - val_loss: 0.3438 - val_accuracy: 0.8340\n",
      "Epoch 118/120\n",
      "313/313 [==============================] - 2s 5ms/step - loss: 0.3154 - accuracy: 0.8623 - val_loss: 0.3382 - val_accuracy: 0.8310\n",
      "Epoch 119/120\n",
      "313/313 [==============================] - 2s 5ms/step - loss: 0.3113 - accuracy: 0.8657 - val_loss: 0.3572 - val_accuracy: 0.8250\n",
      "Epoch 120/120\n",
      "313/313 [==============================] - 2s 5ms/step - loss: 0.3105 - accuracy: 0.8621 - val_loss: 0.3543 - val_accuracy: 0.8330\n"
     ]
    }
   ],
   "source": [
    "# train\n",
    "history = model.fit([inputs_train, queries_train], answers_train,batch_size=32,epochs=120,validation_data=([inputs_test, queries_test], answers_test))"
   ]
  },
  {
   "cell_type": "markdown",
   "metadata": {},
   "source": [
    "Saving the model"
   ]
  },
  {
   "cell_type": "code",
   "execution_count": 112,
   "metadata": {},
   "outputs": [
    {
     "name": "stderr",
     "output_type": "stream",
     "text": [
      "C:\\Users\\DELL\\AppData\\Local\\Packages\\PythonSoftwareFoundation.Python.3.11_qbz5n2kfra8p0\\LocalCache\\local-packages\\Python311\\site-packages\\keras\\src\\engine\\training.py:3103: UserWarning: You are saving your model as an HDF5 file via `model.save()`. This file format is considered legacy. We recommend using instead the native Keras format, e.g. `model.save('my_model.keras')`.\n",
      "  saving_api.save_model(\n"
     ]
    }
   ],
   "source": [
    "filename = 'chatbot_120_epochs.h5'\n",
    "model.save(filename)"
   ]
  },
  {
   "cell_type": "markdown",
   "metadata": {},
   "source": [
    "Evaluating the model"
   ]
  },
  {
   "cell_type": "markdown",
   "metadata": {},
   "source": [
    "Plotting training history"
   ]
  },
  {
   "cell_type": "code",
   "execution_count": 113,
   "metadata": {},
   "outputs": [
    {
     "name": "stdout",
     "output_type": "stream",
     "text": [
      "dict_keys(['loss', 'accuracy', 'val_loss', 'val_accuracy'])\n"
     ]
    },
    {
     "data": {
      "image/png": "[encoded data removed]",
      "text/plain": [
       "<Figure size 640x480 with 1 Axes>"
      ]
     },
     "metadata": {},
     "output_type": "display_data"
    }
   ],
   "source": [
    "import matplotlib.pyplot as plt\n",
    "%matplotlib inline\n",
    "print(history.history.keys())\n",
    "\n",
    "# summarize history for accuracy\n",
    "plt.plot(history.history['accuracy'])\n",
    "plt.plot(history.history['val_accuracy'])\n",
    "plt.title('model accuracy')\n",
    "plt.ylabel('accuracy')\n",
    "plt.xlabel('epoch')\n",
    "plt.legend(['train', 'test'], loc='upper left')\n",
    "plt.show()"
   ]
  },
  {
   "cell_type": "markdown",
   "metadata": {},
   "source": [
    "Evaluating on Given Test Set"
   ]
  },
  {
   "cell_type": "code",
   "execution_count": 114,
   "metadata": {},
   "outputs": [
    {
     "name": "stdout",
     "output_type": "stream",
     "text": [
      "32/32 [==============================] - 0s 2ms/step\n"
     ]
    }
   ],
   "source": [
    "model.load_weights(filename)\n",
    "pred_results = model.predict(([inputs_test, queries_test]))\n",
    "\n",
    "sample = 0"
   ]
  },
  {
   "cell_type": "code",
   "execution_count": 115,
   "metadata": {},
   "outputs": [
    {
     "data": {
      "text/plain": [
       "['Mary',\n",
       " 'got',\n",
       " 'the',\n",
       " 'milk',\n",
       " 'there',\n",
       " '.',\n",
       " 'John',\n",
       " 'moved',\n",
       " 'to',\n",
       " 'the',\n",
       " 'bedroom',\n",
       " '.']"
      ]
     },
     "execution_count": 115,
     "metadata": {},
     "output_type": "execute_result"
    }
   ],
   "source": [
    "test_data[sample][0]"
   ]
  },
  {
   "cell_type": "code",
   "execution_count": 116,
   "metadata": {},
   "outputs": [
    {
     "name": "stdout",
     "output_type": "stream",
     "text": [
      "Mary got the milk there . John moved to the bedroom .\n"
     ]
    }
   ],
   "source": [
    "story =' '.join(word for word in test_data[sample][0])\n",
    "print(story)"
   ]
  },
  {
   "cell_type": "code",
   "execution_count": 117,
   "metadata": {},
   "outputs": [
    {
     "name": "stdout",
     "output_type": "stream",
     "text": [
      "Is John in the kitchen ?\n"
     ]
    }
   ],
   "source": [
    "query = ' '.join(word for word in test_data[sample][1])\n",
    "print(query)"
   ]
  },
  {
   "cell_type": "code",
   "execution_count": 118,
   "metadata": {},
   "outputs": [
    {
     "name": "stdout",
     "output_type": "stream",
     "text": [
      "True Test Answer from Data is: no\n"
     ]
    }
   ],
   "source": [
    "print(\"True Test Answer from Data is:\",test_data[sample][2])"
   ]
  },
  {
   "cell_type": "code",
   "execution_count": 119,
   "metadata": {},
   "outputs": [
    {
     "name": "stdout",
     "output_type": "stream",
     "text": [
      "Predicted answer is:  no\n",
      "Probability of certainty was:  0.9973992\n"
     ]
    }
   ],
   "source": [
    "#Generate prediction from model\n",
    "val_max = np.argmax(pred_results[sample])\n",
    "\n",
    "for key, val in tokenizer.word_index.items():\n",
    "    if val == val_max:\n",
    "        k = key\n",
    "\n",
    "print(\"Predicted answer is: \", k)\n",
    "print(\"Probability of certainty was: \", pred_results[sample][val_max])"
   ]
  },
  {
   "cell_type": "code",
   "execution_count": 120,
   "metadata": {},
   "outputs": [
    {
     "name": "stdout",
     "output_type": "stream",
     "text": [
      "Accuracy: 0.83\n",
      "Precision: 0.84\n",
      "Recall: 0.83\n",
      "F1-score: 0.83\n"
     ]
    }
   ],
   "source": [
    "from sklearn.metrics import accuracy_score, precision_score, recall_score, f1_score\n",
    "\n",
    "# Lists to store true labels and predicted labels\n",
    "true_labels = []\n",
    "predicted_labels = []\n",
    "\n",
    "for i, (story, question, actual_answer) in enumerate(test_data):\n",
    "    # Get the index of the word with the highest predicted probability\n",
    "    predicted_index = np.argmax(pred_results[i])\n",
    "\n",
    "    # Find the corresponding word in the tokenizer's vocabulary\n",
    "    predicted_word = next((word for word, index in tokenizer.word_index.items() if index == predicted_index), None)\n",
    "\n",
    "    # Append true label and predicted label to the lists\n",
    "    true_labels.append(actual_answer)\n",
    "    predicted_labels.append(predicted_word)\n",
    "\n",
    "# Convert labels to numeric format if needed\n",
    "# This is necessary for some metric functions\n",
    "true_numeric = tokenizer.texts_to_sequences(true_labels)\n",
    "predicted_numeric = tokenizer.texts_to_sequences(predicted_labels)\n",
    "\n",
    "# Flatten the lists to 1D arrays\n",
    "true_numeric_flat = [item for sublist in true_numeric for item in sublist]\n",
    "predicted_numeric_flat = [item for sublist in predicted_numeric for item in sublist]\n",
    "\n",
    "# Calculate accuracy\n",
    "accuracy = accuracy_score(true_numeric_flat, predicted_numeric_flat)\n",
    "\n",
    "# Calculate precision, recall, and F1-score\n",
    "precision = precision_score(true_numeric_flat, predicted_numeric_flat, average='weighted')\n",
    "recall = recall_score(true_numeric_flat, predicted_numeric_flat, average='weighted')\n",
    "f1 = f1_score(true_numeric_flat, predicted_numeric_flat, average='weighted')\n",
    "\n",
    "# Print the results\n",
    "print(f\"Accuracy: {accuracy:.2f}\")\n",
    "print(f\"Precision: {precision:.2f}\")\n",
    "print(f\"Recall: {recall:.2f}\")\n",
    "print(f\"F1-score: {f1:.2f}\")\n"
   ]
  }
 ],
 "metadata": {
  "kernelspec": {
   "display_name": "Python 3",
   "language": "python",
   "name": "python3"
  },
  "language_info": {
   "codemirror_mode": {
    "name": "ipython",
    "version": 3
   },
   "file_extension": ".py",
   "mimetype": "text/x-python",
   "name": "python",
   "nbconvert_exporter": "python",
   "pygments_lexer": "ipython3",
   "version": "3.11.7"
  }
 },
 "nbformat": 4,
 "nbformat_minor": 2
}
